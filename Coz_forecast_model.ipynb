# 🌍 AI for SDG 13 – Predicting CO₂ Emissions

# Import libraries
import pandas as pd
from sklearn.model_selection import train_test_split
from sklearn.ensemble import RandomForestRegressor
from sklearn.metrics import r2_score
import matplotlib.pyplot as plt

# Load dataset
url = 'https://raw.githubusercontent.com/datasets/co2-fossil-global/master/global.csv'
df = pd.read_csv(url)

# Drop missing values
df = df.dropna()

# Feature selection
X = df[['Total']].values
y = df['Total'].shift(-1).fillna(method='ffill').values  # Predict next year's CO2

# Train/test split
X_train, X_test, y_train, y_test = train_test_split(X, y, test_size=0.2, random_state=42)

# Train model
model = RandomForestRegressor(n_estimators=100, random_state=42)
model.fit(X_train, y_train)

# Predict
y_pred = model.predict(X_test)

# Evaluate
print("R² Score:", r2_score(y_test, y_pred))
